{
  "nbformat": 4,
  "nbformat_minor": 0,
  "metadata": {
    "colab": {
      "name": "emotion_detection.ipynb",
      "provenance": [],
      "private_outputs": true,
      "collapsed_sections": [],
      "authorship_tag": "ABX9TyNbPcpUcdZ1+lpmTBf3JYkj",
      "include_colab_link": true
    },
    "kernelspec": {
      "name": "python3",
      "display_name": "Python 3"
    },
    "accelerator": "GPU"
  },
  "cells": [
    {
      "cell_type": "markdown",
      "metadata": {
        "id": "view-in-github",
        "colab_type": "text"
      },
      "source": [
        "<a href=\"https://colab.research.google.com/github/rabiyak19/emotion_detection_cnn/blob/master/emotion_detection.ipynb\" target=\"_parent\"><img src=\"https://colab.research.google.com/assets/colab-badge.svg\" alt=\"Open In Colab\"/></a>"
      ]
    },
    {
      "cell_type": "markdown",
      "metadata": {
        "id": "ud7PUC6GRdx8",
        "colab_type": "text"
      },
      "source": [
        "**Libraries**"
      ]
    },
    {
      "cell_type": "code",
      "metadata": {
        "id": "GHRN9c78yNHO",
        "colab_type": "code",
        "colab": {}
      },
      "source": [
        "import numpy as np\n",
        "import pandas as pd\n",
        "import matplotlib.pyplot as plt\n",
        "from skimage import io\n",
        "import matplotlib.pyplot as plt"
      ],
      "execution_count": null,
      "outputs": []
    },
    {
      "cell_type": "code",
      "metadata": {
        "id": "msFLkwCODUpD",
        "colab_type": "code",
        "colab": {}
      },
      "source": [
        "import tensorflow as tf\n",
        "from tensorflow.keras.models import Sequential\n",
        "from tensorflow.keras.layers import Conv2D, MaxPooling2D, AveragePooling2D\n",
        "from tensorflow.keras.layers import Dense, Activation, Dropout, Flatten, BatchNormalization\n",
        "from tensorflow.keras.preprocessing import image\n",
        "from tensorflow.keras.preprocessing.image import ImageDataGenerator\n",
        "from tensorflow.keras.metrics import categorical_accuracy\n",
        "from tensorflow.keras.models import model_from_json,load_model\n",
        "from tensorflow.keras import optimizers\n",
        "from tensorflow.keras.utils import to_categorical\n",
        "from tensorflow.keras.callbacks import ModelCheckpoint\n",
        "from tensorflow.keras.optimizers import *\n",
        "\n"
      ],
      "execution_count": null,
      "outputs": []
    },
    {
      "cell_type": "markdown",
      "metadata": {
        "id": "DS8pVc6SRpJY",
        "colab_type": "text"
      },
      "source": [
        "**Loading** **Data**"
      ]
    },
    {
      "cell_type": "code",
      "metadata": {
        "id": "IbXT4dFrTqwt",
        "colab_type": "code",
        "colab": {}
      },
      "source": [
        "from google.colab import drive\n",
        "drive.mount('/content/drive')"
      ],
      "execution_count": null,
      "outputs": []
    },
    {
      "cell_type": "code",
      "metadata": {
        "id": "vVWC-DqB3kPw",
        "colab_type": "code",
        "colab": {}
      },
      "source": [
        "data = pd.read_csv('/content/drive/My Drive/emotion/fer2013.csv')"
      ],
      "execution_count": null,
      "outputs": []
    },
    {
      "cell_type": "markdown",
      "metadata": {
        "id": "vxCHMSl5Rv08",
        "colab_type": "text"
      },
      "source": [
        "**Analyzing Data**"
      ]
    },
    {
      "cell_type": "code",
      "metadata": {
        "id": "64xLimqYWfDZ",
        "colab_type": "code",
        "colab": {}
      },
      "source": [
        "data.info()"
      ],
      "execution_count": null,
      "outputs": []
    },
    {
      "cell_type": "code",
      "metadata": {
        "id": "PPSR9XRK38jZ",
        "colab_type": "code",
        "colab": {}
      },
      "source": [
        "data['emotion'].unique()"
      ],
      "execution_count": null,
      "outputs": []
    },
    {
      "cell_type": "markdown",
      "metadata": {
        "id": "_Q1B44oaWw1Y",
        "colab_type": "text"
      },
      "source": [
        "0  Anger\n",
        "1  Disgust\n",
        "2  Fear\n",
        "3  Happy\n",
        "4  Sad\n",
        "5  Surprise\n",
        "6  Neutral"
      ]
    },
    {
      "cell_type": "code",
      "metadata": {
        "id": "kB6-O-9E7D5x",
        "colab_type": "code",
        "colab": {}
      },
      "source": [
        "data['Usage'].unique()"
      ],
      "execution_count": null,
      "outputs": []
    },
    {
      "cell_type": "code",
      "metadata": {
        "colab_type": "code",
        "id": "WBG_VFM87WVm",
        "colab": {}
      },
      "source": [
        "data['Usage'].value_counts()"
      ],
      "execution_count": null,
      "outputs": []
    },
    {
      "cell_type": "markdown",
      "metadata": {
        "id": "kAyuUrFaR30b",
        "colab_type": "text"
      },
      "source": [
        "**Making Training Validation & Test Sets**"
      ]
    },
    {
      "cell_type": "code",
      "metadata": {
        "id": "lNrY3rT97gjB",
        "colab_type": "code",
        "colab": {}
      },
      "source": [
        "training_data =  data.where(data['Usage']=='Training')"
      ],
      "execution_count": null,
      "outputs": []
    },
    {
      "cell_type": "code",
      "metadata": {
        "id": "5_OvLqaNUysk",
        "colab_type": "code",
        "colab": {}
      },
      "source": [
        "training_data = training_data.dropna(axis=0)"
      ],
      "execution_count": null,
      "outputs": []
    },
    {
      "cell_type": "code",
      "metadata": {
        "id": "1l7_bhRCWk-g",
        "colab_type": "code",
        "colab": {}
      },
      "source": [
        "training_data"
      ],
      "execution_count": null,
      "outputs": []
    },
    {
      "cell_type": "code",
      "metadata": {
        "id": "jMFjtwo5VgbZ",
        "colab_type": "code",
        "colab": {}
      },
      "source": [
        "validation_data = data.iloc[28710:32300]"
      ],
      "execution_count": null,
      "outputs": []
    },
    {
      "cell_type": "code",
      "metadata": {
        "id": "E4y4YwxYWVn3",
        "colab_type": "code",
        "colab": {}
      },
      "source": [
        "validation_data = validation_data.dropna(axis=0)"
      ],
      "execution_count": null,
      "outputs": []
    },
    {
      "cell_type": "code",
      "metadata": {
        "id": "vX65rwraWKOX",
        "colab_type": "code",
        "colab": {}
      },
      "source": [
        "validation_data"
      ],
      "execution_count": null,
      "outputs": []
    },
    {
      "cell_type": "code",
      "metadata": {
        "id": "8myOum2fWODR",
        "colab_type": "code",
        "colab": {}
      },
      "source": [
        "test_data = data.where(data['Usage']=='PrivateTest') "
      ],
      "execution_count": null,
      "outputs": []
    },
    {
      "cell_type": "code",
      "metadata": {
        "id": "w3eGCqtxZoZI",
        "colab_type": "code",
        "colab": {}
      },
      "source": [
        "test_data = test_data.dropna(axis=0)"
      ],
      "execution_count": null,
      "outputs": []
    },
    {
      "cell_type": "code",
      "metadata": {
        "id": "ye2ToXLVZqVl",
        "colab_type": "code",
        "colab": {}
      },
      "source": [
        "test_data"
      ],
      "execution_count": null,
      "outputs": []
    },
    {
      "cell_type": "markdown",
      "metadata": {
        "id": "wDPiWlkeSGEK",
        "colab_type": "text"
      },
      "source": [
        "**Preparing Data**"
      ]
    },
    {
      "cell_type": "code",
      "metadata": {
        "id": "uRdviJGeZ8Og",
        "colab_type": "code",
        "colab": {}
      },
      "source": [
        "training_data.to_csv('train.csv',index= False)\n",
        "validation_data.to_csv('validation.csv', index= False)\n",
        "test_data.to_csv('test.csv', index= False)"
      ],
      "execution_count": null,
      "outputs": []
    },
    {
      "cell_type": "code",
      "metadata": {
        "id": "Y9P3w5ceiUIE",
        "colab_type": "code",
        "colab": {}
      },
      "source": [
        "train_data = pd.read_csv('train.csv')\n",
        "train_data"
      ],
      "execution_count": null,
      "outputs": []
    },
    {
      "cell_type": "code",
      "metadata": {
        "id": "ongDq-2ZXkF0",
        "colab_type": "code",
        "colab": {}
      },
      "source": [
        "def extract_features(filename):\n",
        "  X = []\n",
        "  Y = []\n",
        "  headers = True\n",
        "  for line in open(filename):\n",
        "    if headers:\n",
        "      headers = False\n",
        "    else:\n",
        "      row = line.split(',')\n",
        "      Y.append(row[0])\n",
        "      X.append([int(feature) for feature in row[1].split()])\n",
        "      \n",
        "  X,Y = np.array(X)/255.0, np.array(Y)\n",
        "\n",
        "  return (X,Y)"
      ],
      "execution_count": null,
      "outputs": []
    },
    {
      "cell_type": "code",
      "metadata": {
        "id": "_EL5vcAOYv0y",
        "colab_type": "code",
        "colab": {}
      },
      "source": [
        "train_x, train_y = extract_features('train.csv')\n",
        "validation_x, validation_y = extract_features('validation.csv')\n",
        "test_x, test_y = extract_features('test.csv')"
      ],
      "execution_count": null,
      "outputs": []
    },
    {
      "cell_type": "code",
      "metadata": {
        "id": "ViaASraxbWKC",
        "colab_type": "code",
        "colab": {}
      },
      "source": [
        "train_x = np.array(train_x,'float32')\n",
        "train_y = np.array(train_y,'float32')\n",
        "validation_x = np.array(validation_x,'float32')\n",
        "validation_y = np.array(validation_y,'float32')\n",
        "test_x = np.array(test_x,'float32')\n",
        "test_y = np.array(test_y,'float32')"
      ],
      "execution_count": null,
      "outputs": []
    },
    {
      "cell_type": "code",
      "metadata": {
        "id": "TbZOpYLdcF8r",
        "colab_type": "code",
        "colab": {}
      },
      "source": [
        "print(validation_x.shape)\n",
        "print(train_y.shape)"
      ],
      "execution_count": null,
      "outputs": []
    },
    {
      "cell_type": "code",
      "metadata": {
        "id": "Pi-gu4pAdQLK",
        "colab_type": "code",
        "colab": {}
      },
      "source": [
        "classes = len(set(train_y))\n",
        "print(classes)"
      ],
      "execution_count": null,
      "outputs": []
    },
    {
      "cell_type": "markdown",
      "metadata": {
        "id": "mAYbKXfKY-MY",
        "colab_type": "text"
      },
      "source": [
        "Reshaping dimensions for the model. \n",
        "48x48 is the size of images.\n",
        "n is number of images. d is the dimension."
      ]
    },
    {
      "cell_type": "code",
      "metadata": {
        "id": "_r1mndPWZIKN",
        "colab_type": "code",
        "colab": {}
      },
      "source": [
        "n_train, d_train = train_x.shape\n",
        "n_validation, d_validation = validation_x.shape\n",
        "n_test, d_test = test_x.shape "
      ],
      "execution_count": null,
      "outputs": []
    },
    {
      "cell_type": "code",
      "metadata": {
        "id": "REq720rSbAsP",
        "colab_type": "code",
        "colab": {}
      },
      "source": [
        "train_x = train_x.reshape(n_train, 48, 48, 1)                 #1 for grayscale images\n",
        "validation_x = validation_x.reshape(n_validation, 48, 48, 1)\n",
        "test_x = test_x.reshape(n_test, 48, 48, 1)"
      ],
      "execution_count": null,
      "outputs": []
    },
    {
      "cell_type": "code",
      "metadata": {
        "id": "6Nappt-qby-e",
        "colab_type": "code",
        "colab": {}
      },
      "source": [
        "print(train_x.shape)\n",
        "print(validation_x.shape)\n",
        "print(test_x.shape)"
      ],
      "execution_count": null,
      "outputs": []
    },
    {
      "cell_type": "code",
      "metadata": {
        "id": "Od9W_qkxdSyI",
        "colab_type": "code",
        "colab": {}
      },
      "source": [
        "train_y = to_categorical(train_y)  \n",
        "validation_y = to_categorical(validation_y)\n",
        "test_y = to_categorical(test_y)"
      ],
      "execution_count": null,
      "outputs": []
    },
    {
      "cell_type": "code",
      "metadata": {
        "id": "4O6o57xsD6P6",
        "colab_type": "code",
        "colab": {}
      },
      "source": [
        "train_y[0]"
      ],
      "execution_count": null,
      "outputs": []
    },
    {
      "cell_type": "markdown",
      "metadata": {
        "id": "gl3GbFnMFJVH",
        "colab_type": "text"
      },
      "source": [
        "emotion_analysis will show bar graph for predicted img"
      ]
    },
    {
      "cell_type": "code",
      "metadata": {
        "id": "Veu3Zx6-D8rN",
        "colab_type": "code",
        "colab": {}
      },
      "source": [
        "def emotion_analysis(emotions):\n",
        "    objects = ['angry', 'disgust', 'fear', 'happy', 'sad', 'surprise', 'neutral']\n",
        "    y_pos = np.arange(len(objects))\n",
        "    plt.bar(y_pos, emotions, align='center', alpha=0.9)\n",
        "    plt.tick_params(axis='x', which='both', pad=10,width=4,length=10)\n",
        "    plt.xticks(y_pos, objects)\n",
        "    plt.ylabel('percentage')\n",
        "    plt.title('emotion')\n",
        "    \n",
        "    plt.show()"
      ],
      "execution_count": null,
      "outputs": []
    },
    {
      "cell_type": "code",
      "metadata": {
        "id": "IBh61nkFD_Mf",
        "colab_type": "code",
        "colab": {}
      },
      "source": [
        "def display_predictions(img_file, model):\n",
        "  img = image.load_img(img_file, grayscale=True, target_size=(48, 48))\n",
        "  show_img=image.load_img(img_file, grayscale=False, target_size=(200, 200))\n",
        "  x = image.img_to_array(img)\n",
        "  x = np.expand_dims(x, axis = 0)\n",
        "  x /= 255\n",
        "\n",
        "  custom_img = model.predict(x)\n",
        "  #print(custom[0])\n",
        "  emotion_analysis(custom_img[0])\n",
        "\n",
        "  x = np.array(x, 'float32')\n",
        "  x = x.reshape([48, 48]);\n",
        "\n",
        "  plt.gray()\n",
        "  plt.imshow(show_img)\n",
        "  plt.show()\n",
        "\n",
        "  m=0.000000000000000000001\n",
        "  a=custom[0]\n",
        "  for i in range(0,len(a)):\n",
        "      if a[i]>m:\n",
        "          m=a[i]\n",
        "          ind=i\n",
        "          \n",
        "  print('Expression Prediction:',objects[ind])"
      ],
      "execution_count": null,
      "outputs": []
    },
    {
      "cell_type": "markdown",
      "metadata": {
        "id": "loykBveiHR4k",
        "colab_type": "text"
      },
      "source": [
        "**Defining Base Model**"
      ]
    },
    {
      "cell_type": "code",
      "metadata": {
        "id": "PTS43x7XGTUk",
        "colab_type": "code",
        "colab": {}
      },
      "source": [
        "def model_tuned():\n",
        "  model = Sequential()\n",
        "  model.add(Conv2D(32, (3,3), activation='relu',input_shape=(48, 48, 1), padding='same'))\n",
        "  model.add(MaxPooling2D((2, 2)))\n",
        "  model.add(Conv2D(64, (3, 3), activation='relu', padding='same'))\n",
        "  model.add(MaxPooling2D((2, 2)))\n",
        "  model.add(Conv2D(64, (3, 3), activation='relu', padding='same'))\n",
        "  model.add(MaxPooling2D((2, 2)))\n",
        "  model.add(Conv2D(128, (3, 3), activation='relu', padding='same'))\n",
        "  model.add(MaxPooling2D((2, 2)))\n",
        "  #model.add(Dropout(0.5))\n",
        "  model.add(Conv2D(128, (3, 3), activation='relu', padding='same'))\n",
        "  # model.add(MaxPooling2D((2, 2)))\n",
        "  # model.add(Conv2D(256, (3, 3), activation='relu', padding='same'))\n",
        " \n",
        "  model.add(Flatten())\n",
        "  model.add(Dropout(0.5))\n",
        "  model.add(Dense(512, activation='relu'))\n",
        "  model.add(Dense(7, activation='softmax'))\n",
        "  my_optimiser = tf.keras.optimizers.Adam(\n",
        "    learning_rate=0.001, beta_1=0.9, beta_2=0.999, epsilon=1e-07, amsgrad=False,\n",
        "        name='Adam')\n",
        "        \n",
        "  model.compile(loss='categorical_crossentropy', metrics=['accuracy'],optimizer=my_optimiser)\n",
        "  model.summary()    \n",
        "  return model\n",
        "\n",
        " "
      ],
      "execution_count": null,
      "outputs": []
    },
    {
      "cell_type": "code",
      "metadata": {
        "id": "zYKAxQJqVoga",
        "colab_type": "code",
        "colab": {}
      },
      "source": [
        "model1 = model_tuned()"
      ],
      "execution_count": null,
      "outputs": []
    },
    {
      "cell_type": "code",
      "metadata": {
        "id": "7oJm8wI_NKBq",
        "colab_type": "code",
        "colab": {}
      },
      "source": [
        "history = model1.fit(train_x, train_y, batch_size=64, epochs=100, verbose=1, validation_data=(validation_x,validation_y), shuffle=True,)"
      ],
      "execution_count": null,
      "outputs": []
    },
    {
      "cell_type": "code",
      "metadata": {
        "id": "qnzbgxGyO4pe",
        "colab_type": "code",
        "colab": {}
      },
      "source": [
        "acc = history.history['accuracy']\n",
        "val_acc = history.history['val_accuracy']\n",
        "loss = history.history['loss']\n",
        "val_loss = history.history['val_loss']\n",
        "epochs = range(1, len(acc) + 1)\n",
        "plt.plot(epochs, acc, 'bo', label='Training acc')\n",
        "plt.plot(epochs, val_acc, 'b', label='Validation acc')\n",
        "plt.title('Training and validation accuracy')\n",
        "plt.legend()\n",
        "plt.figure()\n",
        "plt.plot(epochs, loss, 'bo', label='Training loss')\n",
        "plt.plot(epochs, val_loss, 'b', label='Validation loss')\n",
        "plt.title('Training and validation loss')\n",
        "plt.legend()\n",
        "plt.show()"
      ],
      "execution_count": null,
      "outputs": []
    },
    {
      "cell_type": "code",
      "metadata": {
        "id": "k0Y6jvJ4Qb7J",
        "colab_type": "code",
        "colab": {}
      },
      "source": [
        "model1.save('emotion_det_model.h5')"
      ],
      "execution_count": null,
      "outputs": []
    },
    {
      "cell_type": "markdown",
      "metadata": {
        "id": "-6c0fOmHvuFS",
        "colab_type": "text"
      },
      "source": [
        "**Visualising** **convnet**"
      ]
    },
    {
      "cell_type": "code",
      "metadata": {
        "id": "APbXnM-2vlJM",
        "colab_type": "code",
        "colab": {}
      },
      "source": [
        "img_path = '/content/drive/My Drive/emotion/angry1.jpeg'\n",
        "from keras.preprocessing import image\n",
        "img = image.load_img(img_path, target_size=(48, 48), grayscale=True)\n",
        "img_tensor = image.img_to_array(img)\n",
        "img_tensor = np.expand_dims(img_tensor, axis=0)\n",
        "img_tensor /= 255.0\n"
      ],
      "execution_count": null,
      "outputs": []
    },
    {
      "cell_type": "code",
      "metadata": {
        "id": "Noo21RjCw4sA",
        "colab_type": "code",
        "colab": {}
      },
      "source": [
        "plt.imshow(img_tensor[0])\n",
        "plt.show()"
      ],
      "execution_count": null,
      "outputs": []
    },
    {
      "cell_type": "code",
      "metadata": {
        "id": "v8YKDPz-w4p7",
        "colab_type": "code",
        "colab": {}
      },
      "source": [
        "from keras import models\n",
        "\n",
        "layer_outputs = [layer.output for layer in model1.layers[:5]]\n",
        "activation_model = models.Model(inputs=model1.input, outputs=layer_outputs)"
      ],
      "execution_count": null,
      "outputs": []
    },
    {
      "cell_type": "code",
      "metadata": {
        "id": "ka9t9c6axzeg",
        "colab_type": "code",
        "colab": {}
      },
      "source": [
        "activations = activation_model.predict(img_tensor)"
      ],
      "execution_count": null,
      "outputs": []
    },
    {
      "cell_type": "code",
      "metadata": {
        "id": "Dx7Y4JO7yWMq",
        "colab_type": "code",
        "colab": {}
      },
      "source": [
        "first_layer_activation = activations[0]"
      ],
      "execution_count": null,
      "outputs": []
    },
    {
      "cell_type": "code",
      "metadata": {
        "id": "p1XlF2W6yXwJ",
        "colab_type": "code",
        "colab": {}
      },
      "source": [
        "print(first_layer_activation.shape)"
      ],
      "execution_count": null,
      "outputs": []
    },
    {
      "cell_type": "code",
      "metadata": {
        "id": "NQohcedtzoct",
        "colab_type": "code",
        "colab": {}
      },
      "source": [
        "plt.matshow(first_layer_activation[0, :, :, 3], cmap='viridis')"
      ],
      "execution_count": null,
      "outputs": []
    },
    {
      "cell_type": "code",
      "metadata": {
        "id": "Kuv7ihAS1ETC",
        "colab_type": "code",
        "colab": {}
      },
      "source": [
        "layer_names = []\n",
        "\n",
        "for layer in model1.layers[:5]:\n",
        "  layer_names.append(layer.name)\n",
        "\n",
        "images_per_row = 16\n",
        "\n",
        "for layer_name, layer_activation in zip(layer_names, activations):\n",
        "  n_features = layer_activation.shape[-1]\n",
        "  size = layer_activation.shape[1]\n",
        "  n_cols = n_features // images_per_row\n",
        "  display_grid = np.zeros((size * n_cols, images_per_row * size))\n",
        "  for col in range(n_cols):\n",
        "    for row in range(images_per_row):\n",
        "      channel_image = layer_activation[0,:, :,col * images_per_row + row]\n",
        "      channel_image -= channel_image.mean()\n",
        "      channel_image /= channel_image.std()\n",
        "      channel_image *= 64\n",
        "      channel_image += 128\n",
        "      channel_image = np.clip(channel_image, 0, 255).astype('uint8')\n",
        "      display_grid[col * size : (col + 1) * size,\n",
        "      row * size : (row + 1) * size] = channel_image\n",
        "  scale = 1. / size\n",
        "  plt.figure(figsize=(scale * display_grid.shape[1],\n",
        "  scale * display_grid.shape[0]))\n",
        "  plt.title(layer_name)\n",
        "  plt.grid(False)\n",
        "  plt.imshow(display_grid, aspect='auto', cmap='viridis')"
      ],
      "execution_count": null,
      "outputs": []
    }
  ]
}